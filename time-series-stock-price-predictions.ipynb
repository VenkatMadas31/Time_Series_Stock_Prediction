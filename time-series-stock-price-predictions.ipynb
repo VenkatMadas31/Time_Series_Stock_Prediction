{
 "cells": [
  {
   "cell_type": "code",
   "execution_count": 1,
   "metadata": {
    "_cell_guid": "b1076dfc-b9ad-4769-8c92-a6c4dae69d19",
    "_kg_hide-input": true,
    "_kg_hide-output": true,
    "_uuid": "8f2839f25d086af736a60e9eeb907d3b93b6e0e5",
    "execution": {
     "iopub.execute_input": "2022-06-05T10:40:19.623848Z",
     "iopub.status.busy": "2022-06-05T10:40:19.623505Z",
     "iopub.status.idle": "2022-06-05T10:40:22.385582Z",
     "shell.execute_reply": "2022-06-05T10:40:22.384830Z",
     "shell.execute_reply.started": "2022-06-05T10:40:19.623806Z"
    }
   },
   "outputs": [],
   "source": [
    "# This Python 3 environment comes with many helpful analytics libraries installed\n",
    "# It is defined by the kaggle/python docker image: https://github.com/kaggle/docker-python\n",
    "# For example, here's several helpful packages to load in \n",
    "\n",
    "import numpy as np # linear algebra\n",
    "import pandas as pd # data processing, CSV file I/O (e.g. pd.read_csv)\n",
    "import matplotlib.pyplot as plt\n",
    "\n",
    "from sklearn.metrics import mean_squared_error as mse"
   ]
  },
  {
   "cell_type": "code",
   "execution_count": 2,
   "metadata": {},
   "outputs": [],
   "source": [
    "#Creating a list for company name\n",
    "company_list = ['INFY' , 'TCS']\n",
    "company_LC = ['infy' , 'tcs']"
   ]
  },
  {
   "cell_type": "code",
   "execution_count": 3,
   "metadata": {
    "execution": {
     "iopub.execute_input": "2022-06-05T10:41:38.661400Z",
     "iopub.status.busy": "2022-06-05T10:41:38.660950Z",
     "iopub.status.idle": "2022-06-05T10:41:38.709606Z",
     "shell.execute_reply": "2022-06-05T10:41:38.708837Z",
     "shell.execute_reply.started": "2022-06-05T10:41:38.661318Z"
    }
   },
   "outputs": [],
   "source": [
    "# Create a dictionary of DataFrames\n",
    "df = {} \n",
    "\n",
    "for i,comp in enumerate(company_list):\n",
    "    \n",
    "    #storing the data from csv in the dictionary\n",
    "    df[comp] = pd.read_csv(f\"./archive/{company_LC[i]}_stock.csv\",\n",
    "                     usecols=['Date','Open', 'High', 'Low','Close', 'Volume'], parse_dates=['Date'],index_col='Date')"
   ]
  },
  {
   "cell_type": "code",
   "execution_count": null,
   "metadata": {
    "execution": {
     "iopub.execute_input": "2022-06-05T10:41:48.277558Z",
     "iopub.status.busy": "2022-06-05T10:41:48.277022Z",
     "iopub.status.idle": "2022-06-05T10:41:48.283820Z",
     "shell.execute_reply": "2022-06-05T10:41:48.282779Z",
     "shell.execute_reply.started": "2022-06-05T10:41:48.277512Z"
    }
   },
   "outputs": [],
   "source": [
    "# Display the first few values of one of the dataframe\n",
    "# df['INFY'].head()\n",
    "df['TCS'].head()"
   ]
  },
  {
   "cell_type": "code",
   "execution_count": null,
   "metadata": {
    "execution": {
     "iopub.execute_input": "2022-06-05T10:43:23.560311Z",
     "iopub.status.busy": "2022-06-05T10:43:23.559614Z",
     "iopub.status.idle": "2022-06-05T10:43:23.569955Z",
     "shell.execute_reply": "2022-06-05T10:43:23.568983Z",
     "shell.execute_reply.started": "2022-06-05T10:43:23.560225Z"
    }
   },
   "outputs": [],
   "source": [
    "\n",
    "df[company[1]].loc['2015-01-07',:]"
   ]
  },
  {
   "cell_type": "code",
   "execution_count": null,
   "metadata": {
    "_kg_hide-input": false,
    "execution": {
     "iopub.execute_input": "2022-06-05T10:43:31.604174Z",
     "iopub.status.busy": "2022-06-05T10:43:31.603550Z",
     "iopub.status.idle": "2022-06-05T10:43:31.614488Z",
     "shell.execute_reply": "2022-06-05T10:43:31.613488Z",
     "shell.execute_reply.started": "2022-06-05T10:43:31.604089Z"
    }
   },
   "outputs": [],
   "source": [
    "df[company_list[0]].info()\n",
    "df[\"TCS\"].head()"
   ]
  },
  {
   "cell_type": "code",
   "execution_count": null,
   "metadata": {
    "_kg_hide-input": true,
    "execution": {
     "iopub.execute_input": "2022-06-05T10:43:32.624266Z",
     "iopub.status.busy": "2022-06-05T10:43:32.623667Z",
     "iopub.status.idle": "2022-06-05T10:43:32.631905Z",
     "shell.execute_reply": "2022-06-05T10:43:32.631073Z",
     "shell.execute_reply.started": "2022-06-05T10:43:32.624197Z"
    }
   },
   "outputs": [],
   "source": [
    "company_name = company_list[0];\n",
    "print(\"Min:\",df[company_name].index.min())\n",
    "print(\"Max:\",df[company_name].index.max())"
   ]
  },
  {
   "cell_type": "code",
   "execution_count": null,
   "metadata": {},
   "outputs": [],
   "source": [
    "company_list"
   ]
  },
  {
   "cell_type": "code",
   "execution_count": null,
   "metadata": {
    "_kg_hide-input": true,
    "execution": {
     "iopub.execute_input": "2022-06-05T10:45:18.776159Z",
     "iopub.status.busy": "2022-06-05T10:45:18.775802Z",
     "iopub.status.idle": "2022-06-05T10:45:19.248847Z",
     "shell.execute_reply": "2022-06-05T10:45:19.247654Z",
     "shell.execute_reply.started": "2022-06-05T10:45:18.776107Z"
    }
   },
   "outputs": [],
   "source": [
    "plt.figure(figsize=(15,3))\n",
    "plt.subplots_adjust(top=1.25 , bottom = 1.2)\n",
    "\n",
    "for i,company in enumerate(company_list,1):\n",
    "    plt.subplot(1,2,i)\n",
    "    df[company].Close.plot()\n",
    "    plt.title(f\"Closing Price {company}\",fontsize=20)\n",
    "plt.show()"
   ]
  },
  {
   "cell_type": "code",
   "execution_count": null,
   "metadata": {
    "scrolled": true
   },
   "outputs": [],
   "source": [
    "column_name = df[company_list[0]].columns[3:5]"
   ]
  },
  {
   "cell_type": "code",
   "execution_count": null,
   "metadata": {},
   "outputs": [],
   "source": [
    "plt.figure(figsize=(15,7))\n",
    "plt.subplots_adjust(top=3 , bottom = 1.5)\n",
    "\n",
    "column_name = df[company_list[0]].columns[3:5]\n",
    "k = 1;\n",
    "for i,company in enumerate(company_list, 1):\n",
    "    \n",
    "    for j,column in enumerate(column_name,1):\n",
    "        plt.subplot(2,2,k)\n",
    "        df[company][column].plot()\n",
    "        k = k+1;\n",
    "        plt.title(f\"{column} ({company})\",fontsize=20)\n",
    "\n",
    "plt.tight_layout()\n",
    "plt.show()"
   ]
  },
  {
   "cell_type": "code",
   "execution_count": null,
   "metadata": {},
   "outputs": [],
   "source": [
    "df[company_list[0]].Close['2015-06-12']"
   ]
  },
  {
   "cell_type": "code",
   "execution_count": null,
   "metadata": {
    "execution": {
     "iopub.execute_input": "2022-06-05T10:48:34.978135Z",
     "iopub.status.busy": "2022-06-05T10:48:34.977756Z",
     "iopub.status.idle": "2022-06-05T10:48:35.457214Z",
     "shell.execute_reply": "2022-06-05T10:48:35.456036Z",
     "shell.execute_reply.started": "2022-06-05T10:48:34.978070Z"
    }
   },
   "outputs": [],
   "source": [
    "# Ajusting the split for INFY stock that happened on 15/06/2015\n",
    "plt.figure(figsize=(17,5))\n",
    "stock_price = {}\n",
    "stock_price[company_list[0]] = pd.concat([df[company_list[0]].Close[:'2015-06-12']/2,df[company_list[0]].Close['2015-06-15':]]) # adjustment\n",
    "plt.plot(stock_price[company_list[0]])\n",
    "plt.title(f\"Closing Price Adjusted {company_list[0]}\",fontsize=20)\n",
    "plt.show()"
   ]
  },
  {
   "cell_type": "code",
   "execution_count": null,
   "metadata": {},
   "outputs": [],
   "source": [
    "plt.figure(figsize=(17,5))\n",
    "stock_price[company_list[1]] = pd.concat([df[company_list[1]].Close[:'2015-06-12'],df[company_list[1]].Close['2015-06-15':]]) # adjustment\n",
    "plt.plot(stock_price[company_list[1]])\n",
    "plt.title(f\"Closing Price Adjusted {company_list[1]}\",fontsize=20)\n",
    "plt.show()"
   ]
  },
  {
   "cell_type": "code",
   "execution_count": null,
   "metadata": {
    "execution": {
     "iopub.execute_input": "2022-06-05T10:52:44.304029Z",
     "iopub.status.busy": "2022-06-05T10:52:44.303674Z",
     "iopub.status.idle": "2022-06-05T10:52:44.313164Z",
     "shell.execute_reply": "2022-06-05T10:52:44.312348Z",
     "shell.execute_reply.started": "2022-06-05T10:52:44.303986Z"
    }
   },
   "outputs": [],
   "source": [
    "# And now we have an adjusted time series of Infosys stock prices.\n",
    "# Lets now Predict the Stock price based on various methods.\n",
    "#helper function to plot the stock prediction\n",
    "# prev_values = stock_price[company_list[0]].iloc[:180] #train\n",
    "# y_test = stock_price[company_list[0]].iloc[180:] #test\n",
    "\n",
    "def plot_pred(pred,title):\n",
    "    plt.figure(figsize=(17,5))\n",
    "    plt.plot(prev_values,label='Train')\n",
    "    plt.plot(y_test,label='Actual')\n",
    "    plt.plot(pred,label='Predicted')\n",
    "    plt.ylabel(\"Stock prices\")\n",
    "    plt.title(title,fontsize=20)\n",
    "    plt.legend()\n",
    "    plt.show()"
   ]
  },
  {
   "cell_type": "code",
   "execution_count": null,
   "metadata": {},
   "outputs": [],
   "source": [
    "#helper function to plot the stock prediction\n",
    "\n",
    "\n",
    "def plot_pred_list(pred,title,comp):\n",
    "    prev_values = stock_price[comp].iloc[:180] #train\n",
    "    y_test = stock_price[comp].iloc[180:] #test\n",
    "    plt.figure(figsize=(17,5))\n",
    "    plt.plot(prev_values,label='Train')\n",
    "    plt.plot(y_test,label='Actual')\n",
    "    plt.plot(pred,label='Predicted')\n",
    "    plt.ylabel(\"Stock prices\")\n",
    "    plt.title(title,fontsize=20)\n",
    "    plt.legend()\n",
    "    plt.show()"
   ]
  },
  {
   "cell_type": "code",
   "execution_count": null,
   "metadata": {
    "execution": {
     "iopub.execute_input": "2022-06-05T10:53:45.706708Z",
     "iopub.status.busy": "2022-06-05T10:53:45.706413Z",
     "iopub.status.idle": "2022-06-05T10:53:45.715997Z",
     "shell.execute_reply": "2022-06-05T10:53:45.714842Z",
     "shell.execute_reply.started": "2022-06-05T10:53:45.706671Z"
    }
   },
   "outputs": [],
   "source": [
    "#Average of previous values\n",
    "\n",
    "def calc_mse(comp):\n",
    "    prev_values = stock_price[comp].iloc[:180] #train\n",
    "    y_test = stock_price[comp].iloc[180:] #test\n",
    "    y_av = pd.Series(np.repeat(prev_values.mean(),y_test.size),index=y_test.index)\n",
    "    mse_calc = mse(y_av,y_test)\n",
    "    return y_av,mse_calc;"
   ]
  },
  {
   "cell_type": "code",
   "execution_count": null,
   "metadata": {},
   "outputs": [],
   "source": [
    "ccal,mse_comp = calc_mse('INFY')\n",
    "mse_comp"
   ]
  },
  {
   "cell_type": "code",
   "execution_count": null,
   "metadata": {},
   "outputs": [],
   "source": [
    "# # prev_values = stock_price['INFY'].iloc[:180] #train\n",
    "# # y_test = stock_price['INFY'].iloc[180:] #test\n",
    "# # y_av = pd.Series(np.repeat(prev_values.mean(),y_test.size),index=y_test.index)\n",
    "# # y_test\n",
    "# # prev_values\n",
    "# # y_av\n",
    "# # mse_calc = mse(y_av,y_test)\n",
    "# # mse_calc\n",
    "# y_av = calc_mse('INFY')\n",
    "# y_av1 = calc_mse('TCS')\n",
    "# print(y_av)\n",
    "# print(y_av1)\n",
    "# prev_values = stock_price['TCS'].iloc[:180] #train\n",
    "# print(prev_values)\n"
   ]
  },
  {
   "cell_type": "code",
   "execution_count": null,
   "metadata": {
    "execution": {
     "iopub.execute_input": "2022-06-05T10:54:23.356882Z",
     "iopub.status.busy": "2022-06-05T10:54:23.356367Z",
     "iopub.status.idle": "2022-06-05T10:54:23.364434Z",
     "shell.execute_reply": "2022-06-05T10:54:23.363419Z",
     "shell.execute_reply.started": "2022-06-05T10:54:23.356829Z"
    }
   },
   "outputs": [],
   "source": [
    "np.sqrt(mse_comp)"
   ]
  },
  {
   "cell_type": "code",
   "execution_count": null,
   "metadata": {
    "execution": {
     "iopub.execute_input": "2022-06-05T10:53:46.592682Z",
     "iopub.status.busy": "2022-06-05T10:53:46.592180Z",
     "iopub.status.idle": "2022-06-05T10:53:47.002633Z",
     "shell.execute_reply": "2022-06-05T10:53:47.001479Z",
     "shell.execute_reply.started": "2022-06-05T10:53:46.592614Z"
    }
   },
   "outputs": [],
   "source": [
    "for i,comp in enumerate(company_list):\n",
    "    y_av_comp,mse_comp = calc_mse(comp)\n",
    "    plot_pred_list(y_av_comp,\"Average\",comp)\n",
    "    print(mse_comp)"
   ]
  },
  {
   "cell_type": "code",
   "execution_count": null,
   "metadata": {
    "execution": {
     "iopub.execute_input": "2022-06-05T10:58:16.392099Z",
     "iopub.status.busy": "2022-06-05T10:58:16.391418Z",
     "iopub.status.idle": "2022-06-05T10:58:16.407115Z",
     "shell.execute_reply": "2022-06-05T10:58:16.406281Z",
     "shell.execute_reply.started": "2022-06-05T10:58:16.392023Z"
    }
   },
   "outputs": [],
   "source": [
    "# Weighted mean\n",
    "\n",
    "def wa_mean(comp):\n",
    "    prev_values = stock_price[comp].iloc[:180] #train\n",
    "    y_test = stock_price[comp].iloc[180:] #test\n",
    "    weight = np.array(range(0,180))/180\n",
    "    weighted_train_data =np.multiply(prev_values,weight)\n",
    "\n",
    "    # weighted average is the sum of this weighted train data by the sum of the weight\n",
    "\n",
    "    weighted_average = sum(weighted_train_data)/sum(weight)\n",
    "    y_wa = pd.Series(np.repeat(weighted_average,y_test.size),index=y_test.index)\n",
    "    print(\"MSE: \" ,mse(y_wa,y_test))\n",
    "    print(\"RMSE: \" ,np.sqrt(mse(y_wa,y_test)))\n",
    "    return y_wa;"
   ]
  },
  {
   "cell_type": "code",
   "execution_count": null,
   "metadata": {
    "execution": {
     "iopub.execute_input": "2022-06-05T10:58:27.546363Z",
     "iopub.status.busy": "2022-06-05T10:58:27.545604Z",
     "iopub.status.idle": "2022-06-05T10:58:27.951003Z",
     "shell.execute_reply": "2022-06-05T10:58:27.949897Z",
     "shell.execute_reply.started": "2022-06-05T10:58:27.546286Z"
    }
   },
   "outputs": [],
   "source": [
    "for i,comp in enumerate(company_list):\n",
    "    y_wa = wa_mean(comp)\n",
    "    plot_pred_list(y_wa,\"Weighted Average\",comp)"
   ]
  },
  {
   "cell_type": "code",
   "execution_count": null,
   "metadata": {
    "execution": {
     "iopub.execute_input": "2022-06-05T11:00:20.632330Z",
     "iopub.status.busy": "2022-06-05T11:00:20.631962Z",
     "iopub.status.idle": "2022-06-05T11:00:20.640669Z",
     "shell.execute_reply": "2022-06-05T11:00:20.639593Z",
     "shell.execute_reply.started": "2022-06-05T11:00:20.632278Z"
    }
   },
   "outputs": [],
   "source": [
    "#      For the other methods we will predict the value of stock price on a day based on the values of stock prices of 80 days prior to it. So in our series we will not consider the first eight days (since there previous eighty days is not in the series).\n",
    "#     We have to test the last 68 values. This would be based on the last 80 days stock prices of each day in the test data.\n",
    "#     Since we have neglected first 80 and last 68 is our test set, the train dataset will be between 80 and 180 (100 days).\n",
    "    y_train = stock_price[company_list[0]][80:180]\n",
    "    y_test = stock_price[company_list[0]][180:]\n",
    "    print(\"y train:\",y_train.shape,\"\\ny test:\",y_test.shape)"
   ]
  },
  {
   "cell_type": "code",
   "execution_count": null,
   "metadata": {},
   "outputs": [],
   "source": [
    "stock_price[comp].size-y_test.size"
   ]
  },
  {
   "cell_type": "code",
   "execution_count": null,
   "metadata": {
    "execution": {
     "iopub.execute_input": "2022-06-05T11:02:15.068846Z",
     "iopub.status.busy": "2022-06-05T11:02:15.068523Z",
     "iopub.status.idle": "2022-06-05T11:02:15.165211Z",
     "shell.execute_reply": "2022-06-05T11:02:15.164271Z",
     "shell.execute_reply.started": "2022-06-05T11:02:15.068807Z"
    }
   },
   "outputs": [],
   "source": [
    "\n",
    "def train_test(comp):\n",
    "    y_train = stock_price[comp][80:180]\n",
    "    y_test = stock_price[comp][180:]\n",
    "    X_train = pd.DataFrame([list(stock_price[comp][i:i+80]) for i in range(100)],\n",
    "                           columns=range(80,0,-1),index=y_train.index)\n",
    "    X_test = pd.DataFrame([list(stock_price[comp][i:i+80]) for i in range(100,stock_price[comp].size-80)],\n",
    "                           columns=range(80,0,-1),index=y_test.index)\n",
    "    return X_train,X_test,y_train,y_test;\n"
   ]
  },
  {
   "cell_type": "code",
   "execution_count": null,
   "metadata": {},
   "outputs": [],
   "source": [
    "\n",
    "X_train,X_test,y_train,y_test = train_test('INFY')"
   ]
  },
  {
   "cell_type": "code",
   "execution_count": null,
   "metadata": {
    "execution": {
     "iopub.execute_input": "2022-06-05T11:03:38.756358Z",
     "iopub.status.busy": "2022-06-05T11:03:38.755821Z",
     "iopub.status.idle": "2022-06-05T11:03:38.765974Z",
     "shell.execute_reply": "2022-06-05T11:03:38.765338Z",
     "shell.execute_reply.started": "2022-06-05T11:03:38.756287Z"
    }
   },
   "outputs": [],
   "source": [
    "y_ma = X_test.mean(axis=1)\n",
    "mse(y_ma,y_test), np.sqrt(mse(y_ma,y_test))"
   ]
  },
  {
   "cell_type": "code",
   "execution_count": null,
   "metadata": {
    "execution": {
     "iopub.execute_input": "2022-06-05T11:03:46.883968Z",
     "iopub.status.busy": "2022-06-05T11:03:46.883455Z",
     "iopub.status.idle": "2022-06-05T11:03:47.281402Z",
     "shell.execute_reply": "2022-06-05T11:03:47.280350Z",
     "shell.execute_reply.started": "2022-06-05T11:03:46.883897Z"
    }
   },
   "outputs": [],
   "source": [
    "plot_pred_list(y_ma,\"Moving Average\",'INFY')"
   ]
  },
  {
   "cell_type": "code",
   "execution_count": null,
   "metadata": {
    "execution": {
     "iopub.execute_input": "2022-06-05T11:04:21.160962Z",
     "iopub.status.busy": "2022-06-05T11:04:21.160343Z",
     "iopub.status.idle": "2022-06-05T11:04:21.172772Z",
     "shell.execute_reply": "2022-06-05T11:04:21.171691Z",
     "shell.execute_reply.started": "2022-06-05T11:04:21.160878Z"
    }
   },
   "outputs": [],
   "source": [
    "weight = np.array(range(1,81))/80\n",
    "#weighted moving average\n",
    "y_wma = X_test@weight/sum(weight)\n",
    "mse(y_wma,y_test),np.sqrt(mse(y_wma,y_test))"
   ]
  },
  {
   "cell_type": "code",
   "execution_count": null,
   "metadata": {
    "execution": {
     "iopub.execute_input": "2022-06-05T11:04:30.200626Z",
     "iopub.status.busy": "2022-06-05T11:04:30.200240Z",
     "iopub.status.idle": "2022-06-05T11:04:30.628158Z",
     "shell.execute_reply": "2022-06-05T11:04:30.626493Z",
     "shell.execute_reply.started": "2022-06-05T11:04:30.200561Z"
    }
   },
   "outputs": [],
   "source": [
    "plot_pred_list(y_wma,\"Weighted Moving Average\",'INFY')"
   ]
  },
  {
   "cell_type": "code",
   "execution_count": null,
   "metadata": {
    "execution": {
     "iopub.execute_input": "2022-06-05T11:05:40.125672Z",
     "iopub.status.busy": "2022-06-05T11:05:40.125328Z",
     "iopub.status.idle": "2022-06-05T11:05:40.238214Z",
     "shell.execute_reply": "2022-06-05T11:05:40.237272Z",
     "shell.execute_reply.started": "2022-06-05T11:05:40.125622Z"
    }
   },
   "outputs": [],
   "source": [
    "from sklearn.linear_model import LinearRegression\n",
    "lr=LinearRegression()\n",
    "\n",
    "m_lr = {}\n",
    "\n",
    "for i,comp in enumerate(company_list):\n",
    "    X_train,X_test,y_train,y_test = train_test(comp)\n",
    "    m_lr[comp] = lr.fit(X_train,y_train) # Training the models\n",
    "    y_lr = m_lr[comp].predict(X_test) # inference\n",
    "    y_lr = pd.Series(y_lr,index=y_test.index)\n",
    "    print(f\"MSE for {comp} = {mse(y_test,y_lr)} and RMSE {np.sqrt(mse(y_test,y_lr))}\")\n",
    "    plot_pred_list(y_lr,\"Linear Regression\",comp)"
   ]
  },
  {
   "cell_type": "code",
   "execution_count": null,
   "metadata": {
    "execution": {
     "iopub.execute_input": "2022-06-05T11:05:50.714774Z",
     "iopub.status.busy": "2022-06-05T11:05:50.714436Z",
     "iopub.status.idle": "2022-06-05T11:05:51.157823Z",
     "shell.execute_reply": "2022-06-05T11:05:51.156507Z",
     "shell.execute_reply.started": "2022-06-05T11:05:50.714715Z"
    }
   },
   "outputs": [],
   "source": [
    "# for i,comp in enumerate(company_list):\n",
    "#     plot_pred_list(y_lr,\"Linear Regression\",comp)"
   ]
  },
  {
   "cell_type": "code",
   "execution_count": null,
   "metadata": {},
   "outputs": [],
   "source": [
    "weight = np.array(range(1,101))/100\n",
    "wlr = LinearRegression()\n",
    "\n",
    "m_wlr = {}\n",
    "\n",
    "for i,comp in enumerate(company_list):\n",
    "    X_train,X_test,y_train,y_test = train_test(comp)\n",
    "    m_wlr[comp] = wlr.fit(X_train,y_train,weight) # Training the models\n",
    "    y_wlr = m_wlr[comp].predict(X_test) # inference\n",
    "    y_wlr = pd.Series(y_wlr,index=y_test.index)\n",
    "    print(f\"MSE for {comp} = {mse(y_test,y_wlr)} and RMSE {np.sqrt(mse(y_test,y_wlr))}\")\n",
    "    plot_pred_list(y_wlr,\"Weighted Linear Regression\",comp)"
   ]
  },
  {
   "cell_type": "code",
   "execution_count": null,
   "metadata": {
    "execution": {
     "iopub.execute_input": "2022-06-05T11:11:29.373589Z",
     "iopub.status.busy": "2022-06-05T11:11:29.372969Z",
     "iopub.status.idle": "2022-06-05T11:11:29.391072Z",
     "shell.execute_reply": "2022-06-05T11:11:29.390116Z",
     "shell.execute_reply.started": "2022-06-05T11:11:29.373522Z"
    }
   },
   "outputs": [],
   "source": [
    "# weight = np.array(range(1,101))/100\n",
    "# wlr = LinearRegression()\n",
    "\n",
    "# wlr.fit(X_train,y_train,weight)\n",
    "# y_wlr = wlr.predict(X_test)\n",
    "# y_wlr = pd.Series(y_wlr,index=y_test.index)\n",
    "\n",
    "# mse(y_test,y_wlr), np.sqrt(mse(y_test,y_wlr))"
   ]
  },
  {
   "cell_type": "code",
   "execution_count": null,
   "metadata": {
    "execution": {
     "iopub.execute_input": "2022-06-05T11:11:36.458043Z",
     "iopub.status.busy": "2022-06-05T11:11:36.457187Z",
     "iopub.status.idle": "2022-06-05T11:11:36.899677Z",
     "shell.execute_reply": "2022-06-05T11:11:36.898171Z",
     "shell.execute_reply.started": "2022-06-05T11:11:36.457974Z"
    }
   },
   "outputs": [],
   "source": [
    "# plot_pred(y_wlr,\"Weighted Linear Regression\")"
   ]
  },
  {
   "cell_type": "code",
   "execution_count": null,
   "metadata": {
    "execution": {
     "iopub.execute_input": "2022-06-05T11:11:59.892832Z",
     "iopub.status.busy": "2022-06-05T11:11:59.892266Z",
     "iopub.status.idle": "2022-06-05T11:11:59.918556Z",
     "shell.execute_reply": "2022-06-05T11:11:59.917557Z",
     "shell.execute_reply.started": "2022-06-05T11:11:59.892767Z"
    }
   },
   "outputs": [],
   "source": [
    "from sklearn.linear_model import Lasso\n",
    "lasso = Lasso()\n",
    "\n",
    "las = lasso.fit(X_train,y_train)\n",
    "y_las = las.predict(X_test)\n",
    "y_las = pd.Series(y_las,index = y_test.index)\n",
    "\n",
    "mse(y_las,y_test), np.sqrt(mse(y_test,y_wlr))"
   ]
  },
  {
   "cell_type": "code",
   "execution_count": null,
   "metadata": {},
   "outputs": [],
   "source": [
    "from sklearn.linear_model import Lasso\n",
    "lasso=Lasso()\n",
    "\n",
    "m_lasso = {}\n",
    "\n",
    "for i,comp in enumerate(company_list):\n",
    "    X_train,X_test,y_train,y_test = train_test(comp)\n",
    "    m_lasso[comp] = lasso.fit(X_train,y_train) # Training the models\n",
    "    y_las = m_lasso[comp].predict(X_test) # inference\n",
    "    y_las = pd.Series(y_las,index=y_test.index)\n",
    "    print(f\"MSE for {comp} = {mse(y_las,y_test)} and RMSE {np.sqrt(mse(y_las,y_test))}\")\n",
    "    plot_pred_list(y_las,\"Linear Regression\",comp)"
   ]
  },
  {
   "cell_type": "code",
   "execution_count": null,
   "metadata": {
    "execution": {
     "iopub.execute_input": "2022-06-05T11:12:02.524584Z",
     "iopub.status.busy": "2022-06-05T11:12:02.524199Z",
     "iopub.status.idle": "2022-06-05T11:12:02.876726Z",
     "shell.execute_reply": "2022-06-05T11:12:02.875549Z",
     "shell.execute_reply.started": "2022-06-05T11:12:02.524532Z"
    }
   },
   "outputs": [],
   "source": [
    "# plot_pred(y_las,\"Lasso Regression\")"
   ]
  },
  {
   "cell_type": "code",
   "execution_count": null,
   "metadata": {
    "_kg_hide-output": true,
    "execution": {
     "iopub.execute_input": "2022-06-05T11:13:22.646967Z",
     "iopub.status.busy": "2022-06-05T11:13:22.646606Z",
     "iopub.status.idle": "2022-06-05T11:13:31.097083Z",
     "shell.execute_reply": "2022-06-05T11:13:31.096286Z",
     "shell.execute_reply.started": "2022-06-05T11:13:22.646916Z"
    }
   },
   "outputs": [],
   "source": [
    "from keras.models import Sequential\n",
    "from keras.layers import Dense\n",
    "\n",
    "ma_nn,history = {},{}\n",
    "\n",
    "#moving average Neural Network\n",
    "for i,comp in enumerate(company_list):\n",
    "    \n",
    "    X_train,X_test,y_train,y_test = train_test(comp)\n",
    "    \n",
    "    ma_nn[comp] = Sequential([Dense(64,input_shape=(80,),activation='relu'), \n",
    "                        Dense(32,activation='linear'),Dense(1)])\n",
    "    \n",
    "    ma_nn[comp].compile(loss='mse',optimizer='rmsprop',metrics=['mae','mse'])\n",
    "    \n",
    "    history[comp] = ma_nn[comp].fit(X_train, y_train, epochs=250, batch_size=32, validation_split=0.25)\n",
    "    \n",
    "    # Plotting the graph of mse vs no. of epochs\n",
    "    plt.plot(history[comp].history['mse'],label='Training loss')\n",
    "    plt.plot(history[comp].history['val_mse'], label='Validation loss')\n",
    "    plt.title(f\"Mean Squared error {comp}\")\n",
    "    plt.xlabel(\"Number of Epochs\")\n",
    "    plt.legend()\n",
    "    plt.show()"
   ]
  },
  {
   "cell_type": "code",
   "execution_count": null,
   "metadata": {
    "_kg_hide-input": true,
    "_kg_hide-output": true,
    "execution": {
     "iopub.execute_input": "2022-06-05T11:13:31.099013Z",
     "iopub.status.busy": "2022-06-05T11:13:31.098762Z",
     "iopub.status.idle": "2022-06-05T11:13:31.399758Z",
     "shell.execute_reply": "2022-06-05T11:13:31.398524Z",
     "shell.execute_reply.started": "2022-06-05T11:13:31.098961Z"
    }
   },
   "outputs": [],
   "source": [
    "# plt.plot(history.history['mse'],label='Training loss')\n",
    "# plt.plot(history.history['val_mse'], label='Validation loss')\n",
    "# plt.title(\"Mean Squared error\")\n",
    "# plt.xlabel(\"Number of Epochs\")\n",
    "# plt.legend()\n",
    "# plt.show()"
   ]
  },
  {
   "cell_type": "code",
   "execution_count": null,
   "metadata": {},
   "outputs": [],
   "source": [
    "for i,comp in enumerate(company_list):\n",
    "    X_train,X_test,y_train,y_test = train_test(comp)\n",
    "    loss_nn,mae_nn,mse_nn = ma_nn[comp].evaluate(X_test,y_test)\n",
    "    print(f\"\\nloss for {comp}:\",loss_nn,f\"\\nmae for {comp}:\",mae_nn,\"\\nmse for {comp}:\",mse_nn)"
   ]
  },
  {
   "cell_type": "code",
   "execution_count": null,
   "metadata": {
    "_kg_hide-input": true,
    "_kg_hide-output": true,
    "execution": {
     "iopub.execute_input": "2022-06-05T11:13:32.591063Z",
     "iopub.status.busy": "2022-06-05T11:13:32.590759Z",
     "iopub.status.idle": "2022-06-05T11:13:32.604425Z",
     "shell.execute_reply": "2022-06-05T11:13:32.603397Z",
     "shell.execute_reply.started": "2022-06-05T11:13:32.591024Z"
    }
   },
   "outputs": [],
   "source": [
    "# loss_nn,mae_nn,mse_nn = ma_nn.evaluate(X_test,y_test)\n",
    "# print(\"\\nloss:\",loss_nn,\"\\nmae:\",mae_nn,\"\\nmse:\",mse_nn)"
   ]
  },
  {
   "cell_type": "code",
   "execution_count": null,
   "metadata": {},
   "outputs": [],
   "source": [
    "df['TCS'].head()"
   ]
  },
  {
   "cell_type": "code",
   "execution_count": null,
   "metadata": {},
   "outputs": [],
   "source": [
    "y_nn = {}\n",
    "\n",
    "for i,comp in enumerate(company_list):\n",
    "    X_train,X_test,y_train,y_test = train_test(comp)\n",
    "    y_nn[comp] = ma_nn[comp].predict(X_test)\n",
    "    y_nn[comp] = pd.Series(y_nn[comp][:,0],index=y_test.index)\n",
    "    print(f\"{mse(y_nn[comp],y_test)},{np.sqrt(mse(y_nn[comp],y_test))}\")"
   ]
  },
  {
   "cell_type": "code",
   "execution_count": null,
   "metadata": {
    "execution": {
     "iopub.execute_input": "2022-06-05T11:13:45.823635Z",
     "iopub.status.busy": "2022-06-05T11:13:45.823349Z",
     "iopub.status.idle": "2022-06-05T11:13:45.836249Z",
     "shell.execute_reply": "2022-06-05T11:13:45.835500Z",
     "shell.execute_reply.started": "2022-06-05T11:13:45.823599Z"
    }
   },
   "outputs": [],
   "source": [
    "# # y_nn = ma_nn.predict(X_test)\n",
    "# # y_nn = pd.Series(y_nn[:,0],index=y_test.index)\n",
    "# # mse(y_nn,y_test),np.sqrt(mse(y_nn,y_test))\n",
    "# X_train,X_test,y_train,y_test = train_test('INFY')\n",
    "# y_nn['INFY'] = ma_nn[comp].predict(X_test)\n",
    "# y_nn['INFY'] = pd.Series(y_nn['INFY'][:,0],index=y_test.index)\n",
    "# mse(y_nn['INFY'],y_test),np.sqrt(mse(y_nn['INFY'],y_test))"
   ]
  },
  {
   "cell_type": "code",
   "execution_count": null,
   "metadata": {},
   "outputs": [],
   "source": []
  },
  {
   "cell_type": "code",
   "execution_count": null,
   "metadata": {
    "execution": {
     "iopub.execute_input": "2022-06-05T11:13:46.945724Z",
     "iopub.status.busy": "2022-06-05T11:13:46.945428Z",
     "iopub.status.idle": "2022-06-05T11:13:47.368846Z",
     "shell.execute_reply": "2022-06-05T11:13:47.367849Z",
     "shell.execute_reply.started": "2022-06-05T11:13:46.945686Z"
    }
   },
   "outputs": [],
   "source": [
    "for i,comp in enumerate(company_list):\n",
    "    plot_pred_list(y_nn[comp],\"Moving Average Prediction\",comp)"
   ]
  },
  {
   "cell_type": "code",
   "execution_count": 1,
   "metadata": {
    "execution": {
     "iopub.execute_input": "2022-06-05T11:14:36.163390Z",
     "iopub.status.busy": "2022-06-05T11:14:36.163034Z",
     "iopub.status.idle": "2022-06-05T11:14:36.176293Z",
     "shell.execute_reply": "2022-06-05T11:14:36.174666Z",
     "shell.execute_reply.started": "2022-06-05T11:14:36.163347Z"
    }
   },
   "outputs": [],
   "source": [
    "import pandas as pd\n",
    "import numpy as np\n",
    "\n",
    "import matplotlib.pyplot as plt\n",
    "\n",
    "%matplotlib inline\n",
    "\n",
    "from matplotlib.pylab import rcParams\n",
    "rcParams['figure.figsize']=20,10\n",
    "\n",
    "from sklearn.preprocessing import MinMaxScaler\n",
    "scaler=MinMaxScaler(feature_range=(0,1))"
   ]
  },
  {
   "cell_type": "code",
   "execution_count": 178,
   "metadata": {
    "execution": {
     "iopub.execute_input": "2022-06-05T11:14:36.334121Z",
     "iopub.status.busy": "2022-06-05T11:14:36.333565Z",
     "iopub.status.idle": "2022-06-05T11:14:36.373286Z",
     "shell.execute_reply": "2022-06-05T11:14:36.372586Z",
     "shell.execute_reply.started": "2022-06-05T11:14:36.334074Z"
    },
    "scrolled": true
   },
   "outputs": [
    {
     "data": {
      "text/plain": [
       "Date         0\n",
       "Open         0\n",
       "High         0\n",
       "Low          0\n",
       "Close        0\n",
       "Adj Close    0\n",
       "Volume       0\n",
       "dtype: int64"
      ]
     },
     "execution_count": 178,
     "metadata": {},
     "output_type": "execute_result"
    }
   ],
   "source": [
    "df = {}\n",
    "\n",
    "company_list = ['comp']\n",
    "\n",
    "for i,comp in enumerate(company_list):\n",
    "\n",
    "    df[comp]=pd.read_csv(f\"./archive/{comp}_stock.csv\")\n",
    "    df[comp].head()\n",
    "    df[comp] = df[comp].dropna()\n",
    "    df[comp] = df[comp].round(2)\n",
    "\n",
    "    \n",
    "daf = df['comp'].isnull().sum()\n",
    "daf\n",
    "# \n",
    "# df['TCS'] = df['TCS'].dropna()\n",
    "# df['TCS'].head()\n",
    "# daf = df['TCS'].isnull().sum()"
   ]
  },
  {
   "cell_type": "code",
   "execution_count": 144,
   "metadata": {},
   "outputs": [
    {
     "data": {
      "text/html": [
       "<div>\n",
       "<style scoped>\n",
       "    .dataframe tbody tr th:only-of-type {\n",
       "        vertical-align: middle;\n",
       "    }\n",
       "\n",
       "    .dataframe tbody tr th {\n",
       "        vertical-align: top;\n",
       "    }\n",
       "\n",
       "    .dataframe thead th {\n",
       "        text-align: right;\n",
       "    }\n",
       "</style>\n",
       "<table border=\"1\" class=\"dataframe\">\n",
       "  <thead>\n",
       "    <tr style=\"text-align: right;\">\n",
       "      <th></th>\n",
       "      <th>Date</th>\n",
       "      <th>Open</th>\n",
       "      <th>High</th>\n",
       "      <th>Low</th>\n",
       "      <th>Close</th>\n",
       "      <th>Adj Close</th>\n",
       "      <th>Volume</th>\n",
       "    </tr>\n",
       "  </thead>\n",
       "  <tbody>\n",
       "    <tr>\n",
       "      <th>0</th>\n",
       "      <td>2010-01-04</td>\n",
       "      <td>5200.90</td>\n",
       "      <td>5238.45</td>\n",
       "      <td>5167.10</td>\n",
       "      <td>5232.20</td>\n",
       "      <td>5232.20</td>\n",
       "      <td>0.0</td>\n",
       "    </tr>\n",
       "    <tr>\n",
       "      <th>1</th>\n",
       "      <td>2010-01-05</td>\n",
       "      <td>5277.15</td>\n",
       "      <td>5288.35</td>\n",
       "      <td>5242.40</td>\n",
       "      <td>5277.90</td>\n",
       "      <td>5277.90</td>\n",
       "      <td>0.0</td>\n",
       "    </tr>\n",
       "    <tr>\n",
       "      <th>2</th>\n",
       "      <td>2010-01-06</td>\n",
       "      <td>5278.15</td>\n",
       "      <td>5310.85</td>\n",
       "      <td>5260.05</td>\n",
       "      <td>5281.80</td>\n",
       "      <td>5281.80</td>\n",
       "      <td>0.0</td>\n",
       "    </tr>\n",
       "    <tr>\n",
       "      <th>3</th>\n",
       "      <td>2010-01-07</td>\n",
       "      <td>5281.80</td>\n",
       "      <td>5302.55</td>\n",
       "      <td>5244.75</td>\n",
       "      <td>5263.10</td>\n",
       "      <td>5263.10</td>\n",
       "      <td>0.0</td>\n",
       "    </tr>\n",
       "    <tr>\n",
       "      <th>4</th>\n",
       "      <td>2010-01-08</td>\n",
       "      <td>5264.25</td>\n",
       "      <td>5276.75</td>\n",
       "      <td>5234.70</td>\n",
       "      <td>5244.75</td>\n",
       "      <td>5244.75</td>\n",
       "      <td>0.0</td>\n",
       "    </tr>\n",
       "  </tbody>\n",
       "</table>\n",
       "</div>"
      ],
      "text/plain": [
       "         Date     Open     High      Low    Close  Adj Close  Volume\n",
       "0  2010-01-04  5200.90  5238.45  5167.10  5232.20    5232.20     0.0\n",
       "1  2010-01-05  5277.15  5288.35  5242.40  5277.90    5277.90     0.0\n",
       "2  2010-01-06  5278.15  5310.85  5260.05  5281.80    5281.80     0.0\n",
       "3  2010-01-07  5281.80  5302.55  5244.75  5263.10    5263.10     0.0\n",
       "4  2010-01-08  5264.25  5276.75  5234.70  5244.75    5244.75     0.0"
      ]
     },
     "execution_count": 144,
     "metadata": {},
     "output_type": "execute_result"
    }
   ],
   "source": [
    "df['comp'].head()"
   ]
  },
  {
   "cell_type": "code",
   "execution_count": 166,
   "metadata": {},
   "outputs": [],
   "source": [
    "from sklearn.preprocessing import MinMaxScaler\n",
    "\n",
    "def create_dataset(comp):\n",
    "    \n",
    "    df[comp][\"Date\"]=pd.to_datetime(df[comp].Date,format=\"%Y-%m-%d\")\n",
    "    df[comp].index=df[comp]['Date']\n",
    "    \n",
    "    data=df[comp].sort_index(ascending=True,axis=0)\n",
    "    new_dataset=pd.DataFrame(index=range(0,len(df[comp])),columns=['Date','Close'])\n",
    "    for i in range(0,len(data)):\n",
    "        new_dataset[\"Date\"][i]=data['Date'][i]\n",
    "        new_dataset[\"Close\"][i]=data[\"Close\"][i]\n",
    "\n",
    "\n",
    "    new_dataset.index=new_dataset.Date\n",
    "    new_dataset.drop(\"Date\",axis=1,inplace=True)\n",
    "    final_dataset=new_dataset.values\n",
    "#     train_len = np.ceil(final_dataset.size*0.95)\n",
    "#     train_len = np.floor(final_dataset.values.size)\n",
    "    train_data=final_dataset[0:187,:]\n",
    "    valid_data=final_dataset[187:,:]\n",
    "    scaler=MinMaxScaler(feature_range=(0,1))\n",
    "    scaled_data=scaler.fit_transform(final_dataset)\n",
    "    \n",
    "    dataset = { 0 : new_dataset, 1 : train_data, 2 : valid_data, 3 : scaled_data}\n",
    "    return dataset;"
   ]
  },
  {
   "cell_type": "code",
   "execution_count": 170,
   "metadata": {},
   "outputs": [],
   "source": [
    "from sklearn.preprocessing import MinMaxScaler\n",
    "\n",
    "def create_dataset(comp):\n",
    "    \n",
    "    df[comp][\"Date\"]=pd.to_datetime(df[comp].Date,format=\"%Y-%m-%d\")\n",
    "    df[comp].index=df[comp]['Date']\n",
    "    \n",
    "    data=df[comp].sort_index(ascending=True,axis=0)\n",
    "    new_dataset=pd.DataFrame(index=range(0,len(df[comp])),columns=['Date','Close'])\n",
    "    for i in range(0,len(data)):\n",
    "        new_dataset[\"Date\"][i]=data['Date'][i]\n",
    "        new_dataset[\"Close\"][i]=data[\"Close\"][i]\n",
    "\n",
    "\n",
    "    new_dataset.index=new_dataset.Date\n",
    "    new_dataset.drop(\"Date\",axis=1,inplace=True)\n",
    "    final_dataset=new_dataset.values\n",
    "    train_len = int(np.ceil(final_dataset.size*0.95))\n",
    "#     train_len = np.floor(final_dataset.values.size)\n",
    "    train_data=final_dataset[0:train_len,:]\n",
    "    valid_data=final_dataset[train_len:,:]\n",
    "    scaler=MinMaxScaler(feature_range=(0,1))\n",
    "    scaled_data=scaler.fit_transform(final_dataset)\n",
    "    \n",
    "    dataset = { 0 : new_dataset, 1 : train_data, 2 : valid_data, 3 : scaled_data}\n",
    "    return dataset;"
   ]
  },
  {
   "cell_type": "code",
   "execution_count": 182,
   "metadata": {},
   "outputs": [
    {
     "data": {
      "text/plain": [
       "133"
      ]
     },
     "execution_count": 182,
     "metadata": {},
     "output_type": "execute_result"
    }
   ],
   "source": [
    "dataset = create_dataset('comp')\n",
    "train_data = dataset[1]\n",
    "new_dataset = dataset[0]\n",
    "# final_dataset=new_dataset.values\n",
    "# train_len = np.ceil(final_dataset.size*0.95)\n",
    "# train_len\n",
    "new_dataset.values.size\n",
    "len(new_dataset.values)-len(train_data)"
   ]
  },
  {
   "cell_type": "code",
   "execution_count": 168,
   "metadata": {},
   "outputs": [],
   "source": [
    "from keras.models import Sequential\n",
    "from keras.layers import LSTM,Dropout,Dense\n",
    "from keras.optimizers import Adam\n",
    "\n",
    "# lstm_model = {}\n",
    "\n",
    "def lstm_train(comp,dataset):\n",
    "\n",
    "    new_dataset = dataset[0]\n",
    "    train_data = dataset[1]\n",
    "    valid_data = dataset[2]\n",
    "    scaled_data = dataset[3]\n",
    "    \n",
    "    x_train_data,y_train_data=[],[]\n",
    "    for i in range(60,len(train_data)):\n",
    "        x_train_data.append(scaled_data[i-60:i,0])\n",
    "        y_train_data.append(scaled_data[i,0])\n",
    "\n",
    "    x_train_data,y_train_data=np.array(x_train_data),np.array(y_train_data)\n",
    "\n",
    "    x_train_data=np.reshape(x_train_data,(x_train_data.shape[0],x_train_data.shape[1],1))\n",
    "\n",
    "    lstm_model =Sequential()\n",
    "    lstm_model.add(LSTM(128, return_sequences=True, input_shape= (x_train_data.shape[1], 1)))\n",
    "    lstm_model.add(LSTM(64, return_sequences=False))\n",
    "    lstm_model.add(Dense(25))\n",
    "    lstm_model.add(Dense(1))\n",
    "\n",
    "    learning_rate = 0.0001  # Set your desired learning rate value\n",
    "    optimizer = Adam(learning_rate=learning_rate)\n",
    "    lstm_model.compile(loss='mean_squared_error', optimizer=optimizer)\n",
    "#     lstm_model.compile(loss='mean_squared_error',optimizer='adam')\n",
    "    lstm_model.fit(x_train_data,y_train_data,epochs=10,batch_size=1,verbose=2)\n",
    "    \n",
    "    return lstm_model;"
   ]
  },
  {
   "cell_type": "code",
   "execution_count": 189,
   "metadata": {},
   "outputs": [],
   "source": [
    "from keras.models import Sequential\n",
    "from keras.layers import LSTM,Dropout,Dense\n",
    "from keras.optimizers import Adam\n",
    "\n",
    "# lstm_model = {}\n",
    "\n",
    "def lstm_train(comp,dataset):\n",
    "\n",
    "    new_dataset = dataset[0]\n",
    "    train_data = dataset[1]\n",
    "    valid_data = dataset[2]\n",
    "    scaled_data = dataset[3]\n",
    "    \n",
    "    test_len = len(new_dataset.values) - len(train_data)\n",
    "    x_train_data,y_train_data=[],[]\n",
    "    for i in range(test_len,len(train_data)):\n",
    "        x_train_data.append(scaled_data[i-test_len:i,0])\n",
    "        y_train_data.append(scaled_data[i,0])\n",
    "\n",
    "    x_train_data,y_train_data=np.array(x_train_data),np.array(y_train_data)\n",
    "\n",
    "    x_train_data=np.reshape(x_train_data,(x_train_data.shape[0],x_train_data.shape[1],1))\n",
    "\n",
    "    lstm_model =Sequential()\n",
    "    lstm_model.add(LSTM(128, return_sequences=True, input_shape= (x_train_data.shape[1], 1)))\n",
    "    lstm_model.add(LSTM(64, return_sequences=False))\n",
    "    lstm_model.add(Dense(25))\n",
    "    lstm_model.add(Dense(1))\n",
    "\n",
    "    learning_rate = 0.0001  # Set your desired learning rate value\n",
    "    optimizer = Adam(learning_rate=learning_rate)\n",
    "    lstm_model.compile(loss='mean_squared_error', optimizer=optimizer)\n",
    "#     lstm_model.compile(loss='mean_squared_error',optimizer='adam')\n",
    "    lstm_model.fit(x_train_data,y_train_data,epochs=2,batch_size=1,verbose=2)\n",
    "    \n",
    "    return lstm_model;"
   ]
  },
  {
   "cell_type": "code",
   "execution_count": 185,
   "metadata": {},
   "outputs": [],
   "source": [
    "def create_xtest(dataset):\n",
    "    \n",
    "    new_dataset = dataset[0]\n",
    "    train_data = dataset[1]\n",
    "    valid_data = dataset[2]\n",
    "    scaled_data = dataset[3]\n",
    "    test_len = len(new_dataset.values) - len(train_data)\n",
    "    final_dataset=new_dataset.values\n",
    "    scaler=MinMaxScaler(feature_range=(0,1))\n",
    "    scaled_data=scaler.fit_transform(final_dataset)\n",
    "    \n",
    "    inputs_data=new_dataset[len(new_dataset)-len(valid_data)-test_len:].values\n",
    "    inputs_data=inputs_data.reshape(-1,1)\n",
    "    inputs_data=scaler.transform(inputs_data)\n",
    "\n",
    "    X_test=[]\n",
    "    for i in range(test_len,inputs_data.shape[0]):\n",
    "        X_test.append(inputs_data[i-test_len:i,0])\n",
    "    X_test=np.array(X_test)\n",
    "\n",
    "    X_test\n",
    "    \n",
    "    return X_test;"
   ]
  },
  {
   "cell_type": "code",
   "execution_count": 186,
   "metadata": {},
   "outputs": [],
   "source": [
    "def predict_stock_list(lstm_model,X_test,dataset):\n",
    "#     new_dataset,train_data,valid_data,scaled_data = create_dataset(comp)\n",
    "    new_dataset = dataset[0]\n",
    "    train_data = dataset[1]\n",
    "    valid_data = dataset[2]\n",
    "    scaled_data = dataset[3]\n",
    "\n",
    "    final_dataset=new_dataset.values\n",
    "    scaler=MinMaxScaler(feature_range=(0,1))\n",
    "    scaled_data=scaler.fit_transform(final_dataset)\n",
    "    \n",
    "    \n",
    "    X_test=np.reshape(X_test,(X_test.shape[0],X_test.shape[1],1))\n",
    "#     lstm_model = lstm_train(comp,dataset)\n",
    "    closing_price=lstm_model.predict(X_test)\n",
    "    closing_price=scaler.inverse_transform(closing_price)\n",
    "#     lstm_model.save(f\"saved_lstm_model.h5\")\n",
    "    return closing_price;"
   ]
  },
  {
   "cell_type": "code",
   "execution_count": 130,
   "metadata": {},
   "outputs": [],
   "source": [
    "# closing_price = {}\n",
    "\n",
    "# for i,comp in enumerate(company_list):\n",
    "#     dataset = create_dataset(comp)\n",
    "#     lstm_model = lstm_train(comp,dataset)\n",
    "#     X_test = create_xtest(dataset)\n",
    "#     closing_price[comp] =  predict_stock_list(lstm_model,X_test,dataset)\n",
    "#     new_dataset = dataset[0]\n",
    "#     train_data=new_dataset[:187]\n",
    "#     valid_data=new_dataset[187:]\n",
    "#     valid_data['Predictions']=closing_price\n",
    "#     plt.plot(train_data[\"Close\"],color='blue')\n",
    "#     plt.plot(valid_data[\"Close\"])\n",
    "#     plt.plot(valid_data[\"Predictions\"], color='red')"
   ]
  },
  {
   "cell_type": "code",
   "execution_count": 131,
   "metadata": {},
   "outputs": [
    {
     "name": "stdout",
     "output_type": "stream",
     "text": [
      "Epoch 1/10\n",
      "127/127 - 8s - loss: 0.0393 - 8s/epoch - 62ms/step\n",
      "Epoch 2/10\n",
      "127/127 - 5s - loss: 0.0075 - 5s/epoch - 39ms/step\n",
      "Epoch 3/10\n",
      "127/127 - 4s - loss: 0.0066 - 4s/epoch - 33ms/step\n",
      "Epoch 4/10\n",
      "127/127 - 4s - loss: 0.0053 - 4s/epoch - 30ms/step\n",
      "Epoch 5/10\n",
      "127/127 - 4s - loss: 0.0050 - 4s/epoch - 35ms/step\n",
      "Epoch 6/10\n",
      "127/127 - 5s - loss: 0.0050 - 5s/epoch - 39ms/step\n",
      "Epoch 7/10\n",
      "127/127 - 5s - loss: 0.0047 - 5s/epoch - 37ms/step\n",
      "Epoch 8/10\n",
      "127/127 - 5s - loss: 0.0049 - 5s/epoch - 42ms/step\n",
      "Epoch 9/10\n",
      "127/127 - 5s - loss: 0.0044 - 5s/epoch - 41ms/step\n",
      "Epoch 10/10\n",
      "127/127 - 5s - loss: 0.0045 - 5s/epoch - 42ms/step\n",
      "2/2 [==============================] - 1s 49ms/step\n"
     ]
    },
    {
     "name": "stderr",
     "output_type": "stream",
     "text": [
      "C:\\Users\\venka\\AppData\\Local\\Temp/ipykernel_18104/1477203335.py:10: SettingWithCopyWarning: \n",
      "A value is trying to be set on a copy of a slice from a DataFrame.\n",
      "Try using .loc[row_indexer,col_indexer] = value instead\n",
      "\n",
      "See the caveats in the documentation: https://pandas.pydata.org/pandas-docs/stable/user_guide/indexing.html#returning-a-view-versus-a-copy\n",
      "  valid_data['Predictions']=closing_price\n"
     ]
    },
    {
     "data": {
      "text/plain": [
       "[<matplotlib.lines.Line2D at 0x2346b4d9af0>]"
      ]
     },
     "execution_count": 131,
     "metadata": {},
     "output_type": "execute_result"
    },
    {
     "data": {
      "image/png": "[encoded data removed]",
      "text/plain": [
       "<Figure size 1440x720 with 1 Axes>"
      ]
     },
     "metadata": {
      "needs_background": "light"
     },
     "output_type": "display_data"
    }
   ],
   "source": [
    "comp = 'TCS'\n",
    "\n",
    "dataset = create_dataset(comp)\n",
    "lstm_model = lstm_train(comp,dataset)\n",
    "X_test = create_xtest(dataset)\n",
    "closing_price = predict_stock_list(lstm_model,X_test,dataset)\n",
    "new_dataset = dataset[0]\n",
    "train_data=new_dataset[:187]\n",
    "valid_data=new_dataset[187:]\n",
    "valid_data['Predictions']=closing_price\n",
    "plt.plot(train_data[\"Close\"],color='blue')\n",
    "plt.plot(valid_data[\"Close\"])\n",
    "plt.plot(valid_data[\"Predictions\"], color='red')"
   ]
  },
  {
   "cell_type": "code",
   "execution_count": 190,
   "metadata": {},
   "outputs": [
    {
     "name": "stdout",
     "output_type": "stream",
     "text": [
      "Epoch 1/2\n",
      "2401/2401 - 191s - loss: 0.0025 - 191s/epoch - 80ms/step\n",
      "Epoch 2/2\n",
      "2401/2401 - 186s - loss: 5.1985e-04 - 186s/epoch - 77ms/step\n",
      "5/5 [==============================] - 1s 139ms/step\n"
     ]
    },
    {
     "name": "stderr",
     "output_type": "stream",
     "text": [
      "C:\\Users\\venka\\AppData\\Local\\Temp/ipykernel_18104/1478467821.py:11: SettingWithCopyWarning: \n",
      "A value is trying to be set on a copy of a slice from a DataFrame.\n",
      "Try using .loc[row_indexer,col_indexer] = value instead\n",
      "\n",
      "See the caveats in the documentation: https://pandas.pydata.org/pandas-docs/stable/user_guide/indexing.html#returning-a-view-versus-a-copy\n",
      "  valid_data['Predictions']=closing_price\n"
     ]
    },
    {
     "data": {
      "text/plain": [
       "[<matplotlib.lines.Line2D at 0x2345b352d30>]"
      ]
     },
     "execution_count": 190,
     "metadata": {},
     "output_type": "execute_result"
    },
    {
     "data": {
      "image/png": "[encoded data removed]",
      "text/plain": [
       "<Figure size 1440x720 with 1 Axes>"
      ]
     },
     "metadata": {
      "needs_background": "light"
     },
     "output_type": "display_data"
    }
   ],
   "source": [
    "comp = 'comp'\n",
    "\n",
    "dataset = create_dataset(comp)\n",
    "lstm_model = lstm_train(comp,dataset)\n",
    "X_test = create_xtest(dataset)\n",
    "closing_price = predict_stock_list(lstm_model,X_test,dataset)\n",
    "new_dataset = dataset[0]\n",
    "train_len = int(np.ceil(new_dataset.values.size*0.95))\n",
    "train_data=new_dataset[:train_len]\n",
    "valid_data=new_dataset[train_len:]\n",
    "valid_data['Predictions']=closing_price\n",
    "plt.plot(train_data[\"Close\"],color='blue')\n",
    "plt.plot(valid_data[\"Close\"])\n",
    "plt.plot(valid_data[\"Predictions\"], color='red')"
   ]
  },
  {
   "cell_type": "code",
   "execution_count": 135,
   "metadata": {},
   "outputs": [],
   "source": [
    "# Testing the model \n",
    "\n",
    "# comp = 'TCS'\n",
    "\n",
    "# dataset = create_dataset(comp)\n",
    "# lstm_model = lstm_train(comp,dataset)\n",
    "# X_test = create_xtest(dataset)\n",
    "# closing_price = predict_stock_list(lstm_model,X_test,dataset)\n",
    "# new_dataset = dataset[0]\n",
    "# train_data=new_dataset[:187]\n",
    "# valid_data=new_dataset[187:]\n",
    "# valid_data['Predictions']=closing_price\n",
    "# plt.plot(train_data[\"Close\"],color='blue')\n",
    "# plt.plot(valid_data[\"Close\"])\n",
    "# plt.plot(valid_data[\"Predictions\"], color='red')"
   ]
  },
  {
   "cell_type": "code",
   "execution_count": 191,
   "metadata": {},
   "outputs": [
    {
     "name": "stdout",
     "output_type": "stream",
     "text": [
      "Percentage Accuracy: 90.10311735721689%\n"
     ]
    }
   ],
   "source": [
    "# Calculating accuracy of predictions\n",
    "\n",
    "abs_diff = np.abs(closing_price - valid_data[\"Close\"].values)\n",
    "\n",
    "# Calculate the percentage difference between absolute difference and actual values\n",
    "percentage_diff = abs_diff / valid_data[\"Close\"].values * 100\n",
    "\n",
    "# Calculate the average percentage accuracy\n",
    "accuracy = 100 - np.mean(percentage_diff)\n",
    "\n",
    "# Print the accuracy\n",
    "print(f\"Percentage Accuracy: {accuracy}%\")\n",
    "\n",
    "# valid_data[\"Close\"].values\n",
    "# closing_price.size"
   ]
  },
  {
   "cell_type": "code",
   "execution_count": 133,
   "metadata": {},
   "outputs": [
    {
     "name": "stdout",
     "output_type": "stream",
     "text": [
      "Percentage Accuracy: 96.06848211032843%\n"
     ]
    }
   ],
   "source": [
    "# Calculating accuracy of predictions\n",
    "\n",
    "abs_diff = np.abs(closing_price - valid_data[\"Close\"].values)\n",
    "\n",
    "# Calculate the percentage difference between absolute difference and actual values\n",
    "percentage_diff = abs_diff / valid_data[\"Close\"].values * 100\n",
    "\n",
    "# Calculate the average percentage accuracy\n",
    "accuracy = 100 - np.mean(percentage_diff)\n",
    "\n",
    "# Print the accuracy\n",
    "print(f\"Percentage Accuracy: {accuracy}%\")\n",
    "\n",
    "# valid_data[\"Close\"].values\n",
    "# closing_price.size"
   ]
  },
  {
   "cell_type": "code",
   "execution_count": 134,
   "metadata": {},
   "outputs": [
    {
     "data": {
      "text/plain": [
       "array([[6323.717 ],\n",
       "       [6337.5835],\n",
       "       [6345.152 ],\n",
       "       [6359.35  ],\n",
       "       [6372.1807],\n",
       "       [6374.975 ],\n",
       "       [6372.442 ],\n",
       "       [6362.4756],\n",
       "       [6344.8003],\n",
       "       [6332.31  ],\n",
       "       [6320.6987],\n",
       "       [6313.7935],\n",
       "       [6308.526 ],\n",
       "       [6299.9565],\n",
       "       [6297.621 ],\n",
       "       [6299.205 ],\n",
       "       [6306.6626],\n",
       "       [6326.8843],\n",
       "       [6353.511 ],\n",
       "       [6385.4355],\n",
       "       [6417.053 ],\n",
       "       [6440.4463],\n",
       "       [6447.6587],\n",
       "       [6447.8477],\n",
       "       [6432.37  ],\n",
       "       [6408.6797],\n",
       "       [6372.198 ],\n",
       "       [6338.9897],\n",
       "       [6303.428 ],\n",
       "       [6263.6606],\n",
       "       [6218.7227],\n",
       "       [6169.59  ],\n",
       "       [6126.4775],\n",
       "       [6091.955 ],\n",
       "       [6072.502 ],\n",
       "       [6067.8657],\n",
       "       [6072.123 ],\n",
       "       [6082.3022],\n",
       "       [6094.699 ],\n",
       "       [6102.4067],\n",
       "       [6096.3867],\n",
       "       [6088.566 ],\n",
       "       [6083.0933],\n",
       "       [6082.0674],\n",
       "       [6080.21  ],\n",
       "       [6082.391 ],\n",
       "       [6086.8037],\n",
       "       [6096.5356],\n",
       "       [6107.906 ],\n",
       "       [6119.521 ],\n",
       "       [6132.9995],\n",
       "       [6145.792 ],\n",
       "       [6157.287 ],\n",
       "       [6172.0776],\n",
       "       [6191.1177],\n",
       "       [6214.3477],\n",
       "       [6240.813 ],\n",
       "       [6267.0796],\n",
       "       [6286.6904],\n",
       "       [6298.502 ]], dtype=float32)"
      ]
     },
     "execution_count": 134,
     "metadata": {},
     "output_type": "execute_result"
    }
   ],
   "source": [
    "closing_price"
   ]
  },
  {
   "cell_type": "code",
   "execution_count": null,
   "metadata": {},
   "outputs": [],
   "source": []
  }
 ],
 "metadata": {
  "kernelspec": {
   "display_name": "Python 3 (ipykernel)",
   "language": "python",
   "name": "python3"
  },
  "language_info": {
   "codemirror_mode": {
    "name": "ipython",
    "version": 3
   },
   "file_extension": ".py",
   "mimetype": "text/x-python",
   "name": "python",
   "nbconvert_exporter": "python",
   "pygments_lexer": "ipython3",
   "version": "3.9.7"
  }
 },
 "nbformat": 4,
 "nbformat_minor": 4
}
